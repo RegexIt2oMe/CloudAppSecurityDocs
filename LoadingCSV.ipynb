{
  "nbformat": 4,
  "nbformat_minor": 0,
  "metadata": {
    "colab": {
      "provenance": [],
      "authorship_tag": "ABX9TyMVvRTjBB9adwgdxSaJQ9Im",
      "include_colab_link": true
    },
    "kernelspec": {
      "name": "python3",
      "display_name": "Python 3"
    },
    "language_info": {
      "name": "python"
    }
  },
  "cells": [
    {
      "cell_type": "markdown",
      "metadata": {
        "id": "view-in-github",
        "colab_type": "text"
      },
      "source": [
        "<a href=\"https://colab.research.google.com/github/RegexIt2oMe/CloudAppSecurityDocs/blob/main/LoadingCSV.ipynb\" target=\"_parent\"><img src=\"https://colab.research.google.com/assets/colab-badge.svg\" alt=\"Open In Colab\"/></a>"
      ]
    },
    {
      "cell_type": "markdown",
      "source": [
        "# Work in progress"
      ],
      "metadata": {
        "id": "VDH31WToxK_f"
      }
    },
    {
      "cell_type": "markdown",
      "source": [
        "Working example of loading a csv"
      ],
      "metadata": {
        "id": "o9piaUNQkcXc"
      }
    },
    {
      "cell_type": "code",
      "execution_count": 4,
      "metadata": {
        "colab": {
          "base_uri": "https://localhost:8080/"
        },
        "id": "6bh_IAqngLyR",
        "outputId": "7fd8cfb5-9062-4569-b0a8-cab888618930"
      },
      "outputs": [
        {
          "output_type": "stream",
          "name": "stdout",
          "text": [
            "Selected csvfile: /content/sample.csv\n",
            "['Column0', 'Column1', 'Column2', 'Column3', 'Column4']\n",
            "['one', 'Row1.1', 'Row2.1', 'Row3.1', 'Row4.1']\n",
            "['two', 'Row1.2', 'Row2.2', 'Row3.2', 'Row4.2']\n",
            "['three', 'Row1.3', 'Row2.3', 'Row3.3', 'Row4.3']\n",
            "['four', 'Row1.4', 'Row2.4', 'Row3.4', 'Row4.4']\n",
            "['five', 'Row1.5', 'Row2.5', 'Row3.5', 'Row4.5']\n",
            "['six', 'Row1.6', 'Row2.6', 'Row3.6', 'Row4.6']\n",
            "['seven', 'Row1.7', 'Row2.7', 'Row3.7', 'Row4.7']\n",
            "['eight', 'Row1.8', 'Row2.8', 'Row3.8', 'Row4.8']\n",
            "['nine', 'Row1.9', 'Row2.9', 'Row3.9', 'Row4.9']\n"
          ]
        }
      ],
      "source": [
        "import csv\n",
        "import sys\n",
        "\n",
        "# mostly copied from here https://www.learnbyexample.org/reading-and-writing-csv-files-in-python/\n",
        "\n",
        "# opening the CSV file\n",
        "filename='/content/sample.csv'\n",
        "with open(filename, mode ='r') as file:\n",
        "\n",
        "  print('Selected csvfile: '+filename)\n",
        "\n",
        "  # reading the CSV file\n",
        "  csvFile = csv.reader(file)\n",
        "  try:\n",
        "    for row in csvFile:\n",
        "      print(row)\n",
        "  except csv.Error as e:\n",
        "      sys.exit('file {}, line {}: {}'.format(filename, csvFile.line_num, e))"
      ]
    },
    {
      "cell_type": "markdown",
      "source": [
        "Test if file exists"
      ],
      "metadata": {
        "id": "dnh0KIz9uYTZ"
      }
    },
    {
      "cell_type": "code",
      "source": [
        "import csv\n",
        "import sys\n",
        "from pathlib import Path\n",
        "\n",
        "# declare file to open\n",
        "filename = Path('/content/sample.csv')\n",
        "\n",
        "print(filename.is_file())\n",
        "file1exists = (filename.is_file())\n",
        "\n",
        "if file1exists == True:\n",
        "  print(\"file 1 exists\")\n",
        "else:\n",
        "  print(\"file 1 does not exist\")"
      ],
      "metadata": {
        "id": "YKRUreznjaI8",
        "colab": {
          "base_uri": "https://localhost:8080/"
        },
        "outputId": "f7efc521-f2fc-4ed4-ea16-0f9bf465c43d"
      },
      "execution_count": null,
      "outputs": [
        {
          "output_type": "stream",
          "name": "stdout",
          "text": [
            "True\n",
            "file 1 exists\n"
          ]
        }
      ]
    },
    {
      "cell_type": "markdown",
      "source": [
        "Test if file exists and check if the correct headers exist"
      ],
      "metadata": {
        "id": "HGYSd342OgWG"
      }
    },
    {
      "cell_type": "code",
      "source": [
        "import csv\n",
        "import sys\n",
        "from pathlib import Path\n",
        "\n",
        "# declare file to open\n",
        "filename = Path('/content/sample.csv')\n",
        "\n",
        "print(filename.is_file())\n",
        "file1exists = (filename.is_file())\n",
        "\n",
        "if file1exists == True:\n",
        "  print(\"file 1 exists\")\n",
        "else:\n",
        "  print(\"file 1 does not exist\")\n",
        "\n",
        "# Check headers for correct data types\n",
        "# List compare for required columns"
      ],
      "metadata": {
        "id": "iJ2neXC7vhsS"
      },
      "execution_count": null,
      "outputs": []
    },
    {
      "cell_type": "markdown",
      "source": [
        "list compare"
      ],
      "metadata": {
        "id": "6Uy5It9ZVp20"
      }
    },
    {
      "cell_type": "code",
      "source": [
        "l1 = [10, 20, 30, 40, 50]\n",
        "l2 = [20, 30, 50, 40, 70]\n",
        "l3 = [50, 10, 30, 20, 40]\n",
        "\n",
        "l1.sort()\n",
        "l2.sort()\n",
        "l3.sort()\n",
        "\n",
        "if l1 == l2:\n",
        "    print (\"The lists l1 and l2 are the same\")\n",
        "else:\n",
        "    print (\"The lists l1 and l2 are not the same\")\n",
        "\n",
        "if l1 == l3:\n",
        "    print (\"The lists l1 and l3 are the same\")\n",
        "else:\n",
        "    print (\"The lists l1 and l3 are not the same\")"
      ],
      "metadata": {
        "colab": {
          "base_uri": "https://localhost:8080/"
        },
        "id": "WezIUvQEVng7",
        "outputId": "4c37072c-beb8-460c-bb88-49bf4317c499"
      },
      "execution_count": 1,
      "outputs": [
        {
          "output_type": "stream",
          "name": "stdout",
          "text": [
            "The lists l1 and l2 are not the same\n",
            "The lists l1 and l3 are the same\n"
          ]
        }
      ]
    },
    {
      "cell_type": "code",
      "source": [
        "import csv\n",
        "import sys\n",
        "from pathlib import Path\n",
        "\n",
        "# mostly copied from here https://www.learnbyexample.org/reading-and-writing-csv-files-in-python/\n",
        "\n",
        "# declare file to open\n",
        "filename='/content/sample.csv'\n",
        "with open(filename, mode ='r') as fileopen:\n",
        "\n",
        "  print('Selected csvfile: '+filename)\n",
        "\n",
        "  # reading the csv file contents\n",
        "  csvFile = csv.reader(fileopen)\n",
        "  try:\n",
        "    for row in csvFile:\n",
        "      print(row)\n",
        "  except csv.Error as e:\n",
        "      sys.exit('file {}, line {}: {}'.format(filename, csvFile.line_num, e))\n",
        "\n",
        "# declare file to open\n",
        "filepathcheck = Path(filename)\n",
        "\n",
        "print(filepathcheck.is_file())\n",
        "file1exists = (filepathcheck.is_file())\n",
        "\n",
        "if file1exists == True:\n",
        "  print(\"file 1 exists\")\n",
        "else:\n",
        "  print(\"file 1 does not exist\")"
      ],
      "metadata": {
        "colab": {
          "base_uri": "https://localhost:8080/"
        },
        "id": "CNuZok7RW93D",
        "outputId": "0c734f20-7f57-4467-dcb3-abcc9afc591e"
      },
      "execution_count": 20,
      "outputs": [
        {
          "output_type": "stream",
          "name": "stdout",
          "text": [
            "Selected csvfile: /content/sample.csv\n",
            "['Column0', 'Column1', 'Column2', 'Column3', 'Column4']\n",
            "['one', 'Row1.1', 'Row2.1', 'Row3.1', 'Row4.1']\n",
            "['two', 'Row1.2', 'Row2.2', 'Row3.2', 'Row4.2']\n",
            "['three', 'Row1.3', 'Row2.3', 'Row3.3', 'Row4.3']\n",
            "['four', 'Row1.4', 'Row2.4', 'Row3.4', 'Row4.4']\n",
            "['five', 'Row1.5', 'Row2.5', 'Row3.5', 'Row4.5']\n",
            "['six', 'Row1.6', 'Row2.6', 'Row3.6', 'Row4.6']\n",
            "['seven', 'Row1.7', 'Row2.7', 'Row3.7', 'Row4.7']\n",
            "['eight', 'Row1.8', 'Row2.8', 'Row3.8', 'Row4.8']\n",
            "['nine', 'Row1.9', 'Row2.9', 'Row3.9', 'Row4.9']\n",
            "True\n",
            "file 1 exists\n"
          ]
        }
      ]
    },
    {
      "cell_type": "code",
      "source": [
        "import csv\n",
        "import sys\n",
        "from pathlib import Path\n",
        "\n",
        "# declare file to open\n",
        "filename='/content/sample.csv'\n",
        "\n",
        "with open(filename) as csv_file:\n",
        "\n",
        "  # creating an object of csv reader\n",
        "  # with the delimiter as ,\n",
        "  csv_reader = csv.reader(csv_file, delimiter = ',')\n",
        "\n",
        "  # list to store the names of columns\n",
        "  list_of_column_names = []\n",
        "\n",
        "  # loop to iterate through the rows of csv\n",
        "  for row in csv_reader:\n",
        "\n",
        "      # adding the first row\n",
        "      list_of_column_names.append(row)\n",
        "\n",
        "      # breaking the loop after the\n",
        "      # first iteration itself\n",
        "      break\n",
        "\n",
        "  print(list_of_column_names[0])"
      ],
      "metadata": {
        "colab": {
          "base_uri": "https://localhost:8080/"
        },
        "id": "q4OhklNcsfH-",
        "outputId": "ad5a7716-14f8-4fb2-de27-850c7b3d1b31"
      },
      "execution_count": 27,
      "outputs": [
        {
          "output_type": "stream",
          "name": "stdout",
          "text": [
            "['Column0', 'Column1', 'Column2', 'Column3', 'Column4']\n"
          ]
        }
      ]
    },
    {
      "cell_type": "markdown",
      "source": [
        "Working example of reading file contents, checking if file exists, and comparing headers"
      ],
      "metadata": {
        "id": "yTzX2_R2wosK"
      }
    },
    {
      "cell_type": "code",
      "source": [
        "import csv\n",
        "import sys\n",
        "from pathlib import Path\n",
        "\n",
        "# mostly copied from here https://www.learnbyexample.org/reading-and-writing-csv-files-in-python/\n",
        "\n",
        "# declare file to open\n",
        "filename='/content/sample.csv'\n",
        "\n",
        "print('Selected csvfile: ',filename)\n",
        "print(\"\\n\")\n",
        "\n",
        "\n",
        "with open(filename, mode ='r') as fileopen:\n",
        "  # reading the csv file contents\n",
        "  print(\"file contents for \", filename)\n",
        "  csvFile = csv.reader(fileopen)\n",
        "  try:\n",
        "    for row in csvFile:\n",
        "      print(row)\n",
        "  except csv.Error as e:\n",
        "      sys.exit('file {}, line {}: {}'.format(filename, csvFile.line_num, e))\n",
        "\n",
        "print(\"\\n\")\n",
        "\n",
        "# declare file to open\n",
        "filepathcheck = Path(filename)\n",
        "\n",
        "print(filepathcheck.is_file())\n",
        "file1exists = (filepathcheck.is_file())\n",
        "\n",
        "if file1exists == True:\n",
        "  print(\"file 1 exists\")\n",
        "else:\n",
        "  print(\"file 1 does not exist\")\n",
        "\n",
        "print(\"\\n\")\n",
        "\n",
        "with open(filename) as csv_file:\n",
        "\n",
        "  # creating an object of csv reader\n",
        "  # with the delimiter as ,\n",
        "  csv_reader = csv.reader(csv_file, delimiter = ',')\n",
        "\n",
        "  # list to store the names of columns\n",
        "  list_of_column_names = []\n",
        "\n",
        "  # loop to iterate through the rows of csv\n",
        "  for row in csv_reader:\n",
        "\n",
        "      # adding the first row\n",
        "      list_of_column_names.append(row)\n",
        "\n",
        "      # breaking the loop after the\n",
        "      # first iteration itself\n",
        "      break\n",
        "\n",
        "expectedlist = ['Column0', 'Column1', 'Column2', 'Column3', 'Column4']\n",
        "print(\"expectedlist\",expectedlist)\n",
        "print(\"\\n\")\n",
        "csvheaderlist = list_of_column_names[0]\n",
        "print(\"csvheaderlist\",csvheaderlist)\n",
        "print(\"\\n\")\n",
        "\n",
        "if expectedlist == csvheaderlist:\n",
        "    print (\"The lists expectedlist and csvheaderlist are the same\")\n",
        "else:\n",
        "    print (\"The lists expectedlist and csvheaderlist are not the same\")\n"
      ],
      "metadata": {
        "colab": {
          "base_uri": "https://localhost:8080/"
        },
        "id": "fTfR83-BtHDw",
        "outputId": "119cf105-9198-40a0-b403-a237cab42ded"
      },
      "execution_count": 38,
      "outputs": [
        {
          "output_type": "stream",
          "name": "stdout",
          "text": [
            "Selected csvfile:  /content/sample.csv\n",
            "\n",
            "\n",
            "file contents for  /content/sample.csv\n",
            "['Column0', 'Column1', 'Column2', 'Column3', 'Column4']\n",
            "['one', 'Row1.1', 'Row2.1', 'Row3.1', 'Row4.1']\n",
            "['two', 'Row1.2', 'Row2.2', 'Row3.2', 'Row4.2']\n",
            "['three', 'Row1.3', 'Row2.3', 'Row3.3', 'Row4.3']\n",
            "['four', 'Row1.4', 'Row2.4', 'Row3.4', 'Row4.4']\n",
            "['five', 'Row1.5', 'Row2.5', 'Row3.5', 'Row4.5']\n",
            "['six', 'Row1.6', 'Row2.6', 'Row3.6', 'Row4.6']\n",
            "['seven', 'Row1.7', 'Row2.7', 'Row3.7', 'Row4.7']\n",
            "['eight', 'Row1.8', 'Row2.8', 'Row3.8', 'Row4.8']\n",
            "['nine', 'Row1.9', 'Row2.9', 'Row3.9', 'Row4.9']\n",
            "\n",
            "\n",
            "True\n",
            "file 1 exists\n",
            "\n",
            "\n",
            "expectedlist ['Column0', 'Column1', 'Column2', 'Column3', 'Column4']\n",
            "\n",
            "\n",
            "csvheaderlist ['Column0', 'Column1', 'Column2', 'Column3', 'Column4']\n",
            "\n",
            "\n",
            "The lists expectedlist and csvheaderlist are the same\n"
          ]
        }
      ]
    },
    {
      "cell_type": "markdown",
      "source": [
        "# Reordering Contents"
      ],
      "metadata": {
        "id": "bWC1wVmPx0E3"
      }
    },
    {
      "cell_type": "code",
      "source": [
        "import csv\n",
        "import sys\n",
        "from pathlib import Path\n",
        "\n",
        "# declare file to path\n",
        "filename='/content/sample.csv'\n",
        "\n",
        "print('Selected csvfile:',filename)\n",
        "print(\"\\n\")\n",
        "\n",
        "# declare file to open\n",
        "filepathcheck = Path(filename)\n",
        "\n",
        "print(\"boolean for file check\",filepathcheck.is_file())\n",
        "file1exists = (filepathcheck.is_file())\n",
        "\n",
        "if file1exists == True:\n",
        "  print(\"file\",filename,\"exists\")\n",
        "  print(\"\\n\")\n",
        "\n",
        "  with open(filename, mode ='r') as fileopen:\n",
        "    # reading the csv file contents\n",
        "    print(\"file contents for \", filename)\n",
        "    csvFile = csv.reader(fileopen)\n",
        "    try:\n",
        "      for row in csvFile:\n",
        "        print(row)\n",
        "    except csv.Error as e:\n",
        "        sys.exit('file {}, line {}: {}'.format(filename, csvFile.line_num, e))\n",
        "\n",
        "  print(\"\\n\")\n",
        "  with open(filename) as csv_file:\n",
        "\n",
        "    # creating an object of csv reader with the delimiter as ,\n",
        "    csv_reader = csv.reader(csv_file, delimiter = ',')\n",
        "\n",
        "    # list to store the names of columns\n",
        "    list_of_column_names = []\n",
        "\n",
        "    # loop to iterate through the rows of csv\n",
        "    for row in csv_reader:\n",
        "\n",
        "        # adding the first row\n",
        "        list_of_column_names.append(row)\n",
        "\n",
        "        # breaking the loop after the first iteration itself\n",
        "        break\n",
        "\n",
        "  expectedlist = ['Column0', 'Column1', 'Column2', 'Column3', 'Column4']\n",
        "  print(\"expectedlist\",expectedlist)\n",
        "  csvheaderlist = list_of_column_names[0]\n",
        "  print(\"csvheaderlist\",csvheaderlist)\n",
        "  print(\"\\n\")\n",
        "\n",
        "  if expectedlist == csvheaderlist:\n",
        "      print (\"The lists expectedlist and csvheaderlist are the same, good job!\")\n",
        "  else:\n",
        "      print (\"The lists expectedlist and csvheaderlist are not the same, make sure the csv has the required fields in the correct order\")\n",
        "\n",
        "else:\n",
        "  print(\"file \",filename,\" does not exist. Please upload the required file and try again.\")\n",
        "\n",
        "\n"
      ],
      "metadata": {
        "colab": {
          "base_uri": "https://localhost:8080/"
        },
        "outputId": "166fef9a-a9e8-4e83-b792-ae73554aa74e",
        "id": "PRuYc_2ixhT_"
      },
      "execution_count": 54,
      "outputs": [
        {
          "output_type": "stream",
          "name": "stdout",
          "text": [
            "Selected csvfile: /content/sample.csv\n",
            "\n",
            "\n",
            "boolean for file check True\n",
            "file /content/sample.csv exists\n",
            "\n",
            "\n",
            "file contents for  /content/sample.csv\n",
            "['Column0', 'Column1', 'Column2', 'Column3', 'Column4']\n",
            "['one', 'Row1.1', 'Row2.1', 'Row3.1', 'Row4.1']\n",
            "['two', 'Row1.2', 'Row2.2', 'Row3.2', 'Row4.2']\n",
            "['three', 'Row1.3', 'Row2.3', 'Row3.3', 'Row4.3']\n",
            "['four', 'Row1.4', 'Row2.4', 'Row3.4', 'Row4.4']\n",
            "['five', 'Row1.5', 'Row2.5', 'Row3.5', 'Row4.5']\n",
            "['six', 'Row1.6', 'Row2.6', 'Row3.6', 'Row4.6']\n",
            "['seven', 'Row1.7', 'Row2.7', 'Row3.7', 'Row4.7']\n",
            "['eight', 'Row1.8', 'Row2.8', 'Row3.8', 'Row4.8']\n",
            "['nine', 'Row1.9', 'Row2.9', 'Row3.9', 'Row4.9']\n",
            "\n",
            "\n",
            "expectedlist ['Column0', 'Column1', 'Column2', 'Column3', 'Column4']\n",
            "csvheaderlist ['Column0', 'Column1', 'Column2', 'Column3', 'Column4']\n",
            "\n",
            "\n",
            "The lists expectedlist and csvheaderlist are the same, good job!\n"
          ]
        }
      ]
    }
  ]
}